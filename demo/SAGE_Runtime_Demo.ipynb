{
  "cells": [
    {
      "cell_type": "markdown",
      "metadata": {},
      "source": [
        "# \ud83e\udde0 SAGE Runtime Demo \u2014 Public Behavior Viewer\n",
        "\n",
        "This Colab notebook demonstrates FSM state transitions and Cr stability\n",
        "using a precomputed diagnostic log from a SAGE runtime session.\n",
        "\n",
        "No source code or internal logic is included.\n"
      ]
    },
    {
      "cell_type": "code",
      "execution_count": null,
      "metadata": {},
      "outputs": [],
      "source": [
        "# \ud83d\udce1 Download diagnostic_log.json from GitHub\n",
        "!wget https://raw.githubusercontent.com/Edgeev/SAGE-Runtime-Demo/main/demo/diagnostic_log.json"
      ]
    },
    {
      "cell_type": "code",
      "execution_count": null,
      "metadata": {},
      "outputs": [],
      "source": [
        "# \ud83d\udce5 Load the diagnostic log\n",
        "import json\n",
        "import matplotlib.pyplot as plt\n",
        "\n",
        "with open('diagnostic_log.json', 'r') as f:\n",
        "    log = json.load(f)\n",
        "\n",
        "# Preview\n",
        "log"
      ]
    },
    {
      "cell_type": "code",
      "execution_count": null,
      "metadata": {},
      "outputs": [],
      "source": [
        "# \ud83d\udcca Plot Cr values over time\n",
        "cr_values = [entry['snapshot']['Cr'] for entry in log]\n",
        "fsm_states = [entry['snapshot']['FSM'] for entry in log]\n",
        "\n",
        "plt.figure(figsize=(10, 4))\n",
        "plt.plot(cr_values, marker='o')\n",
        "plt.title('Cr Stability Over Session')\n",
        "plt.xlabel('Step')\n",
        "plt.ylabel('Cr')\n",
        "plt.grid(True)\n",
        "plt.show()\n"
      ]
    },
    {
      "cell_type": "code",
      "execution_count": null,
      "metadata": {},
      "outputs": [],
      "source": [
        "# \ud83c\udf00 FSM State Transitions\n",
        "import matplotlib.pyplot as plt\n",
        "\n",
        "fsm_map = {state: i for i, state in enumerate(sorted(set(fsm_states)))}\n",
        "fsm_numeric = [fsm_map[state] for state in fsm_states]\n",
        "\n",
        "plt.figure(figsize=(10, 4))\n",
        "plt.plot(fsm_numeric, marker='o', linestyle='--')\n",
        "plt.title('FSM State Transitions')\n",
        "plt.yticks(list(fsm_map.values()), list(fsm_map.keys()))\n",
        "plt.xlabel('Step')\n",
        "plt.ylabel('FSM State')\n",
        "plt.grid(True)\n",
        "plt.show()"
      ]
    },
    {
      "cell_type": "markdown",
      "metadata": {},
      "source": [
        "\ud83d\udcec For access to the full runtime SDK or research validation:\n",
        "**Email:** sageprojecthq@gmail.com\n"
      ]
    }
  ],
  "metadata": {
    "kernelspec": {
      "display_name": "Python 3",
      "language": "python",
      "name": "python3"
    },
    "language_info": {
      "name": "python",
      "version": "3.x"
    }
  },
  "nbformat": 4,
  "nbformat_minor": 5
}
