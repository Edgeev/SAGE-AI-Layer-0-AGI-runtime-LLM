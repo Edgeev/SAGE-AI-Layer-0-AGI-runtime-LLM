{
 "cells": [
  {
   "cell_type": "markdown",
   "id": "23ddae19",
   "metadata": {},
   "source": [
    "# 🧠 SAGE Runtime Demo — Public Behavior Viewer\n",
    "\n",
    "This Colab notebook demonstrates FSM state transitions and Cr stability\n",
    "using a precomputed diagnostic log from a SAGE runtime session.\n",
    "\n",
    "No source code or internal logic is included.\n"
   ]
  },
  {
   "cell_type": "code",
   "execution_count": null,
   "id": "ed8f0b1f",
   "metadata": {},
   "outputs": [],
   "source": [
    "# ✅ Robust loader with fallback\n",
    "import json\n",
    "import matplotlib.pyplot as plt\n",
    "\n",
    "try:\n",
    "    !wget https://raw.githubusercontent.com/Edgeev/SAGE-Runtime-Demo/main/demo/demo_log_fallback.json -O demo_log_fallback.json\n",
    "    with open('demo_log_fallback.json', 'r') as f:\n",
    "        log = json.load(f)\n",
    "except:\n",
    "    log = [\n",
    "        {'snapshot': {'Cr': 1.65, 'FSM': 'TRACE'}},\n",
    "        {'snapshot': {'Cr': 1.72, 'FSM': 'FOCUS'}},\n",
    "        {'snapshot': {'Cr': 1.78, 'FSM': 'ENGAGE'}},\n",
    "        {'snapshot': {'Cr': 1.81, 'FSM': 'TRACE'}},\n",
    "        {'snapshot': {'Cr': 1.76, 'FSM': 'FOCUS'}},\n",
    "    ]\n",
    "print(f'Loaded {len(log)} snapshots.')"
   ]
  },
  {
   "cell_type": "code",
   "execution_count": null,
   "id": "cefb2344",
   "metadata": {},
   "outputs": [],
   "source": [
    "# 📡 Download diagnostic_log.json from GitHub\n",
    "!wget https://raw.githubusercontent.com/Edgeev/SAGE-Runtime-Demo/main/demo/diagnostic_log.json"
   ]
  },
  {
   "cell_type": "code",
   "execution_count": null,
   "id": "cd345d10",
   "metadata": {},
   "outputs": [],
   "source": [
    "# 📥 Load the diagnostic log\n",
    "import json\n",
    "import matplotlib.pyplot as plt\n",
    "\n",
    "with open('demo_log_fallback.json', 'r') as f:\n",
    "    log = json.load(f)\n",
    "\n",
    "# Preview\n",
    "log"
   ]
  },
  {
   "cell_type": "code",
   "execution_count": null,
   "id": "91bd4d66",
   "metadata": {},
   "outputs": [],
   "source": [
    "# 📊 Plot Cr values over time\n",
    "cr_values = [entry['snapshot']['Cr'] for entry in log]\n",
    "fsm_states = [entry['snapshot']['FSM'] for entry in log]\n",
    "\n",
    "plt.figure(figsize=(10, 4))\n",
    "plt.plot(cr_values, marker='o')\n",
    "plt.title('Cr Stability Over Session')\n",
    "plt.xlabel('Step')\n",
    "plt.ylabel('Cr')\n",
    "plt.grid(True)\n",
    "plt.show()\n"
   ]
  },
  {
   "cell_type": "code",
   "execution_count": null,
   "id": "818ff1ff",
   "metadata": {},
   "outputs": [],
   "source": [
    "# 🌀 FSM State Transitions\n",
    "import matplotlib.pyplot as plt\n",
    "\n",
    "fsm_map = {state: i for i, state in enumerate(sorted(set(fsm_states)))}\n",
    "fsm_numeric = [fsm_map[state] for state in fsm_states]\n",
    "\n",
    "plt.figure(figsize=(10, 4))\n",
    "plt.plot(fsm_numeric, marker='o', linestyle='--')\n",
    "plt.title('FSM State Transitions')\n",
    "plt.yticks(list(fsm_map.values()), list(fsm_map.keys()))\n",
    "plt.xlabel('Step')\n",
    "plt.ylabel('FSM State')\n",
    "plt.grid(True)\n",
    "plt.show()"
   ]
  },
  {
   "cell_type": "markdown",
   "id": "eb7c46e7",
   "metadata": {},
   "source": [
    "📬 For access to the full runtime SDK or research validation:\n",
    "**Email:** sageprojecthq@gmail.com\n"
   ]
  }
 ],
 "metadata": {
  "kernelspec": {
   "display_name": "Python 3",
   "language": "python",
   "name": "python3"
  },
  "language_info": {
   "name": "python",
   "version": "3.x"
  }
 },
 "nbformat": 4,
 "nbformat_minor": 5
}
